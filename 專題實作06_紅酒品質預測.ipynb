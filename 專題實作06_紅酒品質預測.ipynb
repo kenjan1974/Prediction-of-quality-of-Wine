{
  "nbformat": 4,
  "nbformat_minor": 0,
  "metadata": {
    "colab": {
      "provenance": [],
      "authorship_tag": "ABX9TyOrefArs/iKy4tHaEb7NIGu",
      "include_colab_link": true
    },
    "kernelspec": {
      "name": "python3",
      "display_name": "Python 3"
    },
    "language_info": {
      "name": "python"
    }
  },
  "cells": [
    {
      "cell_type": "markdown",
      "metadata": {
        "id": "view-in-github",
        "colab_type": "text"
      },
      "source": [
        "<a href=\"https://colab.research.google.com/github/kenjan1974/Prediction-of-quality-of-Wine/blob/main/%E5%B0%88%E9%A1%8C%E5%AF%A6%E4%BD%9C06_%E7%B4%85%E9%85%92%E5%93%81%E8%B3%AA%E9%A0%90%E6%B8%AC.ipynb\" target=\"_parent\"><img src=\"https://colab.research.google.com/assets/colab-badge.svg\" alt=\"Open In Colab\"/></a>"
      ]
    },
    {
      "cell_type": "code",
      "execution_count": null,
      "metadata": {
        "id": "D6pp9g46BB7W"
      },
      "outputs": [],
      "source": []
    },
    {
      "cell_type": "markdown",
      "source": [
        "2. **欄位定義**（依照 Kaggle/UCI 文件）\n",
        "\n",
        "   > 所有單位都以 g/dm³ 計，除非另註。\n",
        "\n",
        "   * `fixed_acidity`：固定酸度（檸檬酸、蘋果酸等除揮發性酸外的總酸）\n",
        "   * `volatile_acidity`：揮發性酸度（主要是醋酸，過高會產生醋味）\n",
        "   * `citric_acid`：檸檬酸（少量有助於風味和新鮮感）\n",
        "   * `residual_sugar`：殘留糖分（發酵後仍存在的糖，過高易甜膩）\n",
        "   * `chlorides`：氯化物（鹽分量，過高會感覺鹹）\n",
        "   * `free_sulfur_dioxide`：游離二氧化硫（抗氧化劑，過量會嗆鼻）\n",
        "   * `total_sulfur_dioxide`：總二氧化硫（游離＋結合型）\n",
        "   * `density`：密度（與糖分、酒精、溫度有關）\n",
        "   * `pH`：酸鹼值（小於3 表示偏酸）\n",
        "   * `sulphates`：硫酸鹽（促進防腐和風味）\n",
        "   * `alcohol`：酒精含量（% v/v）\n",
        "   * `quality`：品質分數（整數，0–10 分，主觀評分）\n",
        "\n",
        "3. **特徵（features）分佈觀察**\n",
        "\n",
        "   * **固定酸度 (fixed\\_acidity)**：大多集中在 6–10；平均約 8.3，略偏右尾。\n",
        "\n",
        "   * **揮發性酸度 (volatile\\_acidity)**：多數落在0.2–0.6；平均約0.53，右偏（少數高醋酸樣本）。\n",
        "\n",
        "   * **檸檬酸 (citric\\_acid)**：大部分在0.0–0.6；平均約0.27，零或極低的比例也不少。\n",
        "\n",
        "   * **殘留糖分 (residual\\_sugar)**：多集中在0.9–2.5，平均約2；明顯右偏（最高可達15以上）。\n",
        "\n",
        "   * **氯化物 (chlorides)**：主要落在0.03–0.10，平均約0.087，分佈窄且左偏。\n",
        "\n",
        "   * **游離二氧化硫 (free\\_sulfur\\_dioxide)**：多在0–30 mg/dm³，平均約15，很長尾（最高上百）。\n",
        "\n",
        "   * **總二氧化硫 (total\\_sulfur\\_dioxide)**：多在50–150 mg/dm³，平均約120，同樣長尾。\n",
        "\n",
        "   * **密度 (density)**：範圍極窄，約0.990–1.004 g/cm³，分佈近常態，平均≈0.996。\n",
        "\n",
        "   * **pH**：集中在3.1–3.6，平均約3.31，分佈略偏左。\n",
        "\n",
        "   * **硫酸鹽 (sulphates)**：主要落在0.4–0.8，平均約0.66，分佈偏左。\n",
        "\n",
        "   * **酒精含量 (alcohol)**：範圍7–14%，平均約10.4%，分佈近常態但略右尾。\n",
        "\n",
        "   > **總結**：多數特徵的分佈都呈現輕微偏態（尤其是殘糖、揮發性酸度、二氧化硫），而像密度、pH、酒精含量則較接近對稱分佈。\n",
        "\n",
        "4. **標籤（quality）分佈**\n",
        "\n",
        "   * 質量分數範圍：3–8 分\n",
        "\n",
        "   * **5 分與 6 分** 最常見，合計佔全體樣本約70%\n",
        "\n",
        "   * 3、4、7、8 分樣本相對稀少，其中 8 分極少（約0.3%）\n",
        "\n",
        "   > **小結**：資料標籤明顯偏向中間分數，屬於高度不平衡的多分類問題。\n"
      ],
      "metadata": {
        "id": "FGd8DOJ9HGvk"
      }
    }
  ]
}